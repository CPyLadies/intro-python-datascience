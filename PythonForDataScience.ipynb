{
  "nbformat": 4,
  "nbformat_minor": 0,
  "metadata": {
    "colab": {
      "name": "PythonForDataScience.ipynb",
      "version": "0.3.2",
      "provenance": [],
      "collapsed_sections": [],
      "include_colab_link": true
    },
    "language_info": {
      "codemirror_mode": {
        "name": "ipython",
        "version": 3
      },
      "file_extension": ".py",
      "mimetype": "text/x-python",
      "name": "python",
      "nbconvert_exporter": "python",
      "pygments_lexer": "ipython3",
      "version": "3.7.0"
    },
    "kernelspec": {
      "display_name": "Python 3",
      "language": "python",
      "name": "python3"
    }
  },
  "cells": [
    {
      "cell_type": "markdown",
      "metadata": {
        "id": "view-in-github",
        "colab_type": "text"
      },
      "source": [
        "<a href=\"https://colab.research.google.com/github/CPyLadies/intro-python-datascience/blob/master/PythonForDataScience.ipynb\" target=\"_parent\"><img src=\"https://colab.research.google.com/assets/colab-badge.svg\" alt=\"Open In Colab\"/></a>"
      ]
    },
    {
      "cell_type": "markdown",
      "metadata": {
        "id": "NVWSZiyeVq1K",
        "colab_type": "text"
      },
      "source": [
        "The purpose of this notebook is to become familiarize with Python to perform basic data analysis. \n",
        "<br><br>\n",
        "The dataset <i>ORD_LAX</i> contains data of flights from ORD to LAX throughout\n",
        "January 2019 from the Bureau of Transportation Statistics (BTS). The dataset contain the following variables:\n",
        "<br><br>\n",
        "* **Flight Date**: Date of the flight (mm/dd/yyyy)\n",
        "* **Carrier**: Carrier IATA identifcation\n",
        "* **Flight Number**: Number assigned to the flight\n",
        "* **Origin**: Origin airport\n",
        "* **Destination**: Destination airport\n",
        "* **Departure Time**: Time of departure (hhmm)\n",
        "* **Depature Delay**: Difference between scheduled and actual departure time (minutes)\n",
        "* **Arrival Time**: Time of arrival (hhmm)\n",
        "* **Arrival Delay**: Difference between scheduled and actual arrival time (minutes)\n",
        "* **Flight Time**: Actual time reported for flight segment (minutes)"
      ]
    },
    {
      "cell_type": "markdown",
      "metadata": {
        "id": "VgUsRLDCVq1M",
        "colab_type": "text"
      },
      "source": [
        "### Problem 1\n",
        "\n",
        "Read in <i>ORD_LAX.csv</i> from <i>url<i/> as a panda DataFrame."
      ]
    },
    {
      "cell_type": "code",
      "metadata": {
        "id": "h-Xe2mKCVq1O",
        "colab_type": "code",
        "colab": {}
      },
      "source": [
        "import pandas as pd\n",
        "\n",
        "url='https://raw.githubusercontent.com/CPyLadies/intro-python-datascience/master/ORD_LAX.csv'\n",
        "\n",
        "# Import Dataset\n",
        "df = pd.read_csv(url)"
      ],
      "execution_count": 0,
      "outputs": []
    },
    {
      "cell_type": "markdown",
      "metadata": {
        "id": "ti6lj-t9Vq1U",
        "colab_type": "text"
      },
      "source": [
        "### Problem 2\n",
        "\n",
        "Print the last 7 lines of the DataFrame."
      ]
    },
    {
      "cell_type": "code",
      "metadata": {
        "id": "jQ-lEG36Vq1V",
        "colab_type": "code",
        "colab": {
          "base_uri": "https://localhost:8080/",
          "height": 263
        },
        "outputId": "1e2327d1-8748-47ce-9288-7e1da007e692"
      },
      "source": [
        "# Display last 7 lines of the dataframe -- this has been done for you\n",
        "\n",
        "df.tail(7)\n",
        "\n",
        "# Now it's your turn! Display the FIRST 8 lines of the dataframe\n"
      ],
      "execution_count": 5,
      "outputs": [
        {
          "output_type": "execute_result",
          "data": {
            "text/html": [
              "<div>\n",
              "<style scoped>\n",
              "    .dataframe tbody tr th:only-of-type {\n",
              "        vertical-align: middle;\n",
              "    }\n",
              "\n",
              "    .dataframe tbody tr th {\n",
              "        vertical-align: top;\n",
              "    }\n",
              "\n",
              "    .dataframe thead th {\n",
              "        text-align: right;\n",
              "    }\n",
              "</style>\n",
              "<table border=\"1\" class=\"dataframe\">\n",
              "  <thead>\n",
              "    <tr style=\"text-align: right;\">\n",
              "      <th></th>\n",
              "      <th>FlightDate</th>\n",
              "      <th>Carrier</th>\n",
              "      <th>FlightNumber</th>\n",
              "      <th>Origin</th>\n",
              "      <th>Destination</th>\n",
              "      <th>DepartureTime</th>\n",
              "      <th>DepartureDelay</th>\n",
              "      <th>ArrivalTime</th>\n",
              "      <th>ArrivalDelay</th>\n",
              "      <th>FlightTime</th>\n",
              "    </tr>\n",
              "  </thead>\n",
              "  <tbody>\n",
              "    <tr>\n",
              "      <th>641</th>\n",
              "      <td>1/31/2019</td>\n",
              "      <td>AA</td>\n",
              "      <td>1163</td>\n",
              "      <td>ORD</td>\n",
              "      <td>LAX</td>\n",
              "      <td>NaN</td>\n",
              "      <td>NaN</td>\n",
              "      <td>NaN</td>\n",
              "      <td>NaN</td>\n",
              "      <td>NaN</td>\n",
              "    </tr>\n",
              "    <tr>\n",
              "      <th>642</th>\n",
              "      <td>1/31/2019</td>\n",
              "      <td>AA</td>\n",
              "      <td>1208</td>\n",
              "      <td>ORD</td>\n",
              "      <td>LAX</td>\n",
              "      <td>NaN</td>\n",
              "      <td>NaN</td>\n",
              "      <td>NaN</td>\n",
              "      <td>NaN</td>\n",
              "      <td>NaN</td>\n",
              "    </tr>\n",
              "    <tr>\n",
              "      <th>643</th>\n",
              "      <td>1/31/2019</td>\n",
              "      <td>AS</td>\n",
              "      <td>1241</td>\n",
              "      <td>ORD</td>\n",
              "      <td>LAX</td>\n",
              "      <td>222.0</td>\n",
              "      <td>437.0</td>\n",
              "      <td>458.0</td>\n",
              "      <td>428.0</td>\n",
              "      <td>276.0</td>\n",
              "    </tr>\n",
              "    <tr>\n",
              "      <th>644</th>\n",
              "      <td>1/31/2019</td>\n",
              "      <td>NK</td>\n",
              "      <td>731</td>\n",
              "      <td>ORD</td>\n",
              "      <td>LAX</td>\n",
              "      <td>1525.0</td>\n",
              "      <td>7.0</td>\n",
              "      <td>1757.0</td>\n",
              "      <td>-3.0</td>\n",
              "      <td>272.0</td>\n",
              "    </tr>\n",
              "    <tr>\n",
              "      <th>645</th>\n",
              "      <td>1/31/2019</td>\n",
              "      <td>NK</td>\n",
              "      <td>737</td>\n",
              "      <td>ORD</td>\n",
              "      <td>LAX</td>\n",
              "      <td>947.0</td>\n",
              "      <td>2.0</td>\n",
              "      <td>1227.0</td>\n",
              "      <td>-1.0</td>\n",
              "      <td>280.0</td>\n",
              "    </tr>\n",
              "    <tr>\n",
              "      <th>646</th>\n",
              "      <td>1/31/2019</td>\n",
              "      <td>AA</td>\n",
              "      <td>245</td>\n",
              "      <td>ORD</td>\n",
              "      <td>LAX</td>\n",
              "      <td>NaN</td>\n",
              "      <td>NaN</td>\n",
              "      <td>NaN</td>\n",
              "      <td>NaN</td>\n",
              "      <td>NaN</td>\n",
              "    </tr>\n",
              "    <tr>\n",
              "      <th>647</th>\n",
              "      <td>1/31/2019</td>\n",
              "      <td>AA</td>\n",
              "      <td>1375</td>\n",
              "      <td>ORD</td>\n",
              "      <td>LAX</td>\n",
              "      <td>1503.0</td>\n",
              "      <td>3.0</td>\n",
              "      <td>1728.0</td>\n",
              "      <td>-2.0</td>\n",
              "      <td>265.0</td>\n",
              "    </tr>\n",
              "  </tbody>\n",
              "</table>\n",
              "</div>"
            ],
            "text/plain": [
              "    FlightDate Carrier  FlightNumber  ... ArrivalTime ArrivalDelay  FlightTime\n",
              "641  1/31/2019      AA          1163  ...         NaN          NaN         NaN\n",
              "642  1/31/2019      AA          1208  ...         NaN          NaN         NaN\n",
              "643  1/31/2019      AS          1241  ...       458.0        428.0       276.0\n",
              "644  1/31/2019      NK           731  ...      1757.0         -3.0       272.0\n",
              "645  1/31/2019      NK           737  ...      1227.0         -1.0       280.0\n",
              "646  1/31/2019      AA           245  ...         NaN          NaN         NaN\n",
              "647  1/31/2019      AA          1375  ...      1728.0         -2.0       265.0\n",
              "\n",
              "[7 rows x 10 columns]"
            ]
          },
          "metadata": {
            "tags": []
          },
          "execution_count": 5
        }
      ]
    },
    {
      "cell_type": "markdown",
      "metadata": {
        "id": "p1qujp_zVq1Z",
        "colab_type": "text"
      },
      "source": [
        "### Problem 3\n",
        "\n",
        "You should notice a missing values within the dataset. For now, drop all rows in the DataFrame that contains at least 1 missing value."
      ]
    },
    {
      "cell_type": "code",
      "metadata": {
        "id": "cjsJg51XVq1a",
        "colab_type": "code",
        "colab": {}
      },
      "source": [
        "# Drop NAs from dataframe\n"
      ],
      "execution_count": 0,
      "outputs": []
    },
    {
      "cell_type": "markdown",
      "metadata": {
        "id": "rU4tz5bQVq1d",
        "colab_type": "text"
      },
      "source": [
        "### Problem 4\n",
        "\n",
        "We will not need to use the variables 'Origin', 'Destination', 'DepartureTime', and 'ArrivalTime'. Drop these four variables from the DataFrame. "
      ]
    },
    {
      "cell_type": "code",
      "metadata": {
        "id": "dmD8XzIEVq1e",
        "colab_type": "code",
        "colab": {}
      },
      "source": [
        "# Drop columns from the dataframe\n"
      ],
      "execution_count": 0,
      "outputs": []
    },
    {
      "cell_type": "markdown",
      "metadata": {
        "id": "rkKzoXzMVq1h",
        "colab_type": "text"
      },
      "source": [
        "### Problem 5\n",
        "What is the minimum, maximum and mean flight time? Can you also obtain the 25-, 50-, and 75- percenti\n",
        "Hint: you can summarize this info using one method"
      ]
    },
    {
      "cell_type": "code",
      "metadata": {
        "id": "Qacg829HVq1i",
        "colab_type": "code",
        "colab": {}
      },
      "source": [
        "# Descibe the flight time column with min/max/mean and percentiles\n"
      ],
      "execution_count": 0,
      "outputs": []
    },
    {
      "cell_type": "markdown",
      "metadata": {
        "id": "z9-3be56Vq1l",
        "colab_type": "text"
      },
      "source": [
        "### Problem 6\n",
        "How many flights did each carrier have? That is, obtain a frequency table of the carriers.\n"
      ]
    },
    {
      "cell_type": "code",
      "metadata": {
        "id": "5m3ufCT_Vq1l",
        "colab_type": "code",
        "colab": {}
      },
      "source": [
        "# Calculate count of flights per carrier\n"
      ],
      "execution_count": 0,
      "outputs": []
    },
    {
      "cell_type": "markdown",
      "metadata": {
        "id": "-RblCg0DVq1p",
        "colab_type": "text"
      },
      "source": [
        "### Problem 7\n",
        "On average, which carrier have the lowest flight time?\n",
        "\n",
        "*Hint: You can use a groupby to assess average flight time by carrier*"
      ]
    },
    {
      "cell_type": "code",
      "metadata": {
        "id": "Dtq6yXYdVq1s",
        "colab_type": "code",
        "colab": {}
      },
      "source": [
        "# Your code here\n"
      ],
      "execution_count": 0,
      "outputs": []
    },
    {
      "cell_type": "markdown",
      "metadata": {
        "id": "neyRdYI4Vq1y",
        "colab_type": "text"
      },
      "source": [
        "### Problem 8\n",
        "Compute the sum of the departure and arrival delay as '<i>TotalDelay</i>'. Which carrier has the lowest average TotalDelay?\n",
        "\n",
        "*Hint: Again, you can do a groupby on Carrier and TotalDelay to determine mean delay per carrier*"
      ]
    },
    {
      "cell_type": "code",
      "metadata": {
        "id": "-BZdWRtyVq1z",
        "colab_type": "code",
        "colab": {}
      },
      "source": [
        "# Your code here\n",
        "df['TotalDelay'] = ..."
      ],
      "execution_count": 0,
      "outputs": []
    },
    {
      "cell_type": "markdown",
      "metadata": {
        "id": "SINGevx_Vq1-",
        "colab_type": "text"
      },
      "source": [
        "### Problem 9\n",
        "Show all flights for the FlightDate 1/14/2019"
      ]
    },
    {
      "cell_type": "code",
      "metadata": {
        "id": "Oc5j3jvOVq2B",
        "colab_type": "code",
        "colab": {}
      },
      "source": [
        "# Flights for 1/14/2019\n"
      ],
      "execution_count": 0,
      "outputs": []
    },
    {
      "cell_type": "markdown",
      "metadata": {
        "id": "UWnHGV1IVq2G",
        "colab_type": "text"
      },
      "source": [
        "### Problem 10\n",
        "Show all flights for AA 245."
      ]
    },
    {
      "cell_type": "code",
      "metadata": {
        "id": "lW1MkkfdVq2J",
        "colab_type": "code",
        "colab": {}
      },
      "source": [
        "# Show flights for AA 245\n"
      ],
      "execution_count": 0,
      "outputs": []
    },
    {
      "cell_type": "markdown",
      "metadata": {
        "id": "BapgxenBVq2Q",
        "colab_type": "text"
      },
      "source": [
        "### Problem 11\n",
        "Find the shortest flight (by shortest FlightTime) for each airline carrier. Be sure your result includes the FlightNumber\n",
        "<br><br>\n",
        "*E.g., Best flight for AA is FlightNumber 245 with 229 minutes.*"
      ]
    },
    {
      "cell_type": "code",
      "metadata": {
        "id": "Hy6XiFZVVq2S",
        "colab_type": "code",
        "colab": {}
      },
      "source": [
        "# Your code here\n"
      ],
      "execution_count": 0,
      "outputs": []
    },
    {
      "cell_type": "markdown",
      "metadata": {
        "id": "t0-Bf9TyVq2X",
        "colab_type": "text"
      },
      "source": [
        "### Problem 12\n",
        "\n",
        "Using matplotlib, create a scatter plot where the x-axis is ArrivalDelay and the y-axis is DepartureDelay."
      ]
    },
    {
      "cell_type": "code",
      "metadata": {
        "id": "OPw2RF_6Vq2Z",
        "colab_type": "code",
        "colab": {}
      },
      "source": [
        "import matplotlib.pyplot as plt\n",
        "\n",
        "# Your code here\n"
      ],
      "execution_count": 0,
      "outputs": []
    },
    {
      "cell_type": "markdown",
      "metadata": {
        "id": "uFYIOTuCVq2f",
        "colab_type": "text"
      },
      "source": [
        "### Problem 13\n",
        "\n",
        "Create a histogram of the FlightTime."
      ]
    },
    {
      "cell_type": "code",
      "metadata": {
        "id": "4ZhGv3CKVq2g",
        "colab_type": "code",
        "colab": {}
      },
      "source": [
        "# Your code here\n"
      ],
      "execution_count": 0,
      "outputs": []
    }
  ]
}